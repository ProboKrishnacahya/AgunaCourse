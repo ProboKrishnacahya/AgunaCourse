{
  "nbformat": 4,
  "nbformat_minor": 0,
  "metadata": {
    "colab": {
      "name": "10number_in_python.ipynb",
      "provenance": [],
      "authorship_tag": "ABX9TyOSS79e0tW/iHeQODKeKROe",
      "include_colab_link": true
    },
    "kernelspec": {
      "name": "python3",
      "display_name": "Python 3"
    },
    "language_info": {
      "name": "python"
    }
  },
  "cells": [
    {
      "cell_type": "markdown",
      "metadata": {
        "id": "view-in-github",
        "colab_type": "text"
      },
      "source": [
        "<a href=\"https://colab.research.google.com/github/cahyaa02/AgunaCourse/blob/Python-Fundamental/10number_in_python.ipynb\" target=\"_parent\"><img src=\"https://colab.research.google.com/assets/colab-badge.svg\" alt=\"Open In Colab\"/></a>"
      ]
    },
    {
      "cell_type": "code",
      "execution_count": null,
      "metadata": {
        "id": "yRnP6jGPxRnt"
      },
      "outputs": [],
      "source": [
        ""
      ]
    }
  ]
}