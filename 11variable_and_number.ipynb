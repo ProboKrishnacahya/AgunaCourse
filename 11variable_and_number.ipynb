{
  "nbformat": 4,
  "nbformat_minor": 0,
  "metadata": {
    "colab": {
      "name": "11variable_and_number.ipynb",
      "provenance": [],
      "authorship_tag": "ABX9TyM97LgqIhD6Q1eF6Zh6svmn",
      "include_colab_link": true
    },
    "kernelspec": {
      "name": "python3",
      "display_name": "Python 3"
    },
    "language_info": {
      "name": "python"
    }
  },
  "cells": [
    {
      "cell_type": "markdown",
      "metadata": {
        "id": "view-in-github",
        "colab_type": "text"
      },
      "source": [
        "<a href=\"https://colab.research.google.com/github/cahyaa02/AgunaCourse/blob/Python-Fundamental/11variable_and_number.ipynb\" target=\"_parent\"><img src=\"https://colab.research.google.com/assets/colab-badge.svg\" alt=\"Open In Colab\"/></a>"
      ]
    },
    {
      "cell_type": "code",
      "execution_count": null,
      "metadata": {
        "id": "29uqDhnJ1QiJ"
      },
      "outputs": [],
      "source": [
        "number1 = 10\n",
        "number2 = 15"
      ]
    },
    {
      "cell_type": "code",
      "source": [
        "result = number1 + number2"
      ],
      "metadata": {
        "id": "QGbP5-NB42oh"
      },
      "execution_count": null,
      "outputs": []
    },
    {
      "cell_type": "code",
      "source": [
        "print(result)"
      ],
      "metadata": {
        "colab": {
          "base_uri": "https://localhost:8080/"
        },
        "id": "RAm1RJH34533",
        "outputId": "018fc246-0b2c-4ef1-9afb-f817542561a4"
      },
      "execution_count": null,
      "outputs": [
        {
          "output_type": "stream",
          "name": "stdout",
          "text": [
            "25\n"
          ]
        }
      ]
    },
    {
      "cell_type": "code",
      "source": [
        "result = result + number1 #result = 25 + 10"
      ],
      "metadata": {
        "id": "VVUTL-on47eo"
      },
      "execution_count": null,
      "outputs": []
    },
    {
      "cell_type": "code",
      "source": [
        "result"
      ],
      "metadata": {
        "colab": {
          "base_uri": "https://localhost:8080/"
        },
        "id": "PTD6QIjJ4-Pq",
        "outputId": "f29bd89a-79e2-4ac8-99c3-c9f1411be12b"
      },
      "execution_count": null,
      "outputs": [
        {
          "output_type": "execute_result",
          "data": {
            "text/plain": [
              "35"
            ]
          },
          "metadata": {},
          "execution_count": 17
        }
      ]
    },
    {
      "cell_type": "code",
      "source": [
        "result += number1 #result = 35 + 10"
      ],
      "metadata": {
        "id": "lbaFi0De4_A3"
      },
      "execution_count": null,
      "outputs": []
    },
    {
      "cell_type": "code",
      "source": [
        "result"
      ],
      "metadata": {
        "colab": {
          "base_uri": "https://localhost:8080/"
        },
        "id": "cGVvdJvz5k3p",
        "outputId": "7868fd27-f450-4ea6-fd8e-abc4d2152128"
      },
      "execution_count": null,
      "outputs": [
        {
          "output_type": "execute_result",
          "data": {
            "text/plain": [
              "45"
            ]
          },
          "metadata": {},
          "execution_count": 19
        }
      ]
    },
    {
      "cell_type": "code",
      "source": [
        "result *= number1 #result = result * number1"
      ],
      "metadata": {
        "id": "YXPFOchM5mQ1"
      },
      "execution_count": null,
      "outputs": []
    },
    {
      "cell_type": "code",
      "source": [
        "result"
      ],
      "metadata": {
        "colab": {
          "base_uri": "https://localhost:8080/"
        },
        "id": "A0vR6YV66Pvy",
        "outputId": "25c1cdc3-d320-4149-deab-24572f1756cd"
      },
      "execution_count": null,
      "outputs": [
        {
          "output_type": "execute_result",
          "data": {
            "text/plain": [
              "450"
            ]
          },
          "metadata": {},
          "execution_count": 21
        }
      ]
    },
    {
      "cell_type": "code",
      "source": [
        "result /= number1 #result = result / number1"
      ],
      "metadata": {
        "id": "Ca-fk3FT6QeT"
      },
      "execution_count": null,
      "outputs": []
    },
    {
      "cell_type": "code",
      "source": [
        "result"
      ],
      "metadata": {
        "colab": {
          "base_uri": "https://localhost:8080/"
        },
        "id": "3Sr72qMG6XaS",
        "outputId": "0baf522e-0d3c-4701-82a4-69418637bfdd"
      },
      "execution_count": null,
      "outputs": [
        {
          "output_type": "execute_result",
          "data": {
            "text/plain": [
              "45.0"
            ]
          },
          "metadata": {},
          "execution_count": 23
        }
      ]
    }
  ]
}