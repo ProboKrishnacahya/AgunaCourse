{
  "nbformat": 4,
  "nbformat_minor": 0,
  "metadata": {
    "colab": {
      "name": "16modifying_list",
      "provenance": [],
      "authorship_tag": "ABX9TyMegLM+vV2azJH2SPxmH75w",
      "include_colab_link": true
    },
    "kernelspec": {
      "name": "python3",
      "display_name": "Python 3"
    },
    "language_info": {
      "name": "python"
    }
  },
  "cells": [
    {
      "cell_type": "markdown",
      "metadata": {
        "id": "view-in-github",
        "colab_type": "text"
      },
      "source": [
        "<a href=\"https://colab.research.google.com/github/cahyaa02/AgunaCourse/blob/Python-Fundamental/16modifying_list.ipynb\" target=\"_parent\"><img src=\"https://colab.research.google.com/assets/colab-badge.svg\" alt=\"Open In Colab\"/></a>"
      ]
    },
    {
      "cell_type": "code",
      "execution_count": 28,
      "metadata": {
        "id": "fnYTSfh_Lq8F"
      },
      "outputs": [],
      "source": [
        "list2 = [\"one\", \"two\", \"three\", \"four\"]"
      ]
    },
    {
      "cell_type": "code",
      "source": [
        "list2[1] = \"TWO\" # Mengubah value suatu objek pada list"
      ],
      "metadata": {
        "id": "Ce7ixWzQL6PV"
      },
      "execution_count": 29,
      "outputs": []
    },
    {
      "cell_type": "code",
      "source": [
        "list2"
      ],
      "metadata": {
        "colab": {
          "base_uri": "https://localhost:8080/"
        },
        "id": "EkWmRaF5L-5U",
        "outputId": "2c38ae22-2cda-4ea6-8b72-f882cd543c2d"
      },
      "execution_count": 30,
      "outputs": [
        {
          "output_type": "execute_result",
          "data": {
            "text/plain": [
              "['one', 'TWO', 'three', 'four']"
            ]
          },
          "metadata": {},
          "execution_count": 30
        }
      ]
    },
    {
      "cell_type": "code",
      "source": [
        "list2.append(\"five\") # Menambah value ke index paling akhir pada list"
      ],
      "metadata": {
        "id": "bB9NB0y-MAHs"
      },
      "execution_count": 31,
      "outputs": []
    },
    {
      "cell_type": "code",
      "source": [
        "list2"
      ],
      "metadata": {
        "colab": {
          "base_uri": "https://localhost:8080/"
        },
        "id": "X1vS-1AIMUzY",
        "outputId": "1c5130e5-7962-44e9-9c90-ee17f8c510bb"
      },
      "execution_count": 32,
      "outputs": [
        {
          "output_type": "execute_result",
          "data": {
            "text/plain": [
              "['one', 'TWO', 'three', 'four', 'five']"
            ]
          },
          "metadata": {},
          "execution_count": 32
        }
      ]
    },
    {
      "cell_type": "code",
      "source": [
        "list2.insert(0, \"zero\") # Menambah value ke index tertentu pada list\n",
        "# (contohnya, memasukkan value baru di index ke-0 yaitu zero)"
      ],
      "metadata": {
        "id": "1cyjGBYZMVfC"
      },
      "execution_count": 33,
      "outputs": []
    },
    {
      "cell_type": "code",
      "source": [
        "list2"
      ],
      "metadata": {
        "colab": {
          "base_uri": "https://localhost:8080/"
        },
        "id": "7iLMnQSgM2Qw",
        "outputId": "bf88868c-a271-45ed-9f05-937d4c8097a2"
      },
      "execution_count": 34,
      "outputs": [
        {
          "output_type": "execute_result",
          "data": {
            "text/plain": [
              "['zero', 'one', 'TWO', 'three', 'four', 'five']"
            ]
          },
          "metadata": {},
          "execution_count": 34
        }
      ]
    },
    {
      "cell_type": "code",
      "source": [
        "list2.remove(\"TWO\") # Menghapus isi value melalui .remove(\"isi_value\")"
      ],
      "metadata": {
        "id": "pyBuYyYiPt3E"
      },
      "execution_count": 35,
      "outputs": []
    },
    {
      "cell_type": "code",
      "source": [
        "list2"
      ],
      "metadata": {
        "colab": {
          "base_uri": "https://localhost:8080/"
        },
        "id": "9RAg2VvVQQgF",
        "outputId": "205c9914-4071-418f-8c95-d9b9ed2963a8"
      },
      "execution_count": 36,
      "outputs": [
        {
          "output_type": "execute_result",
          "data": {
            "text/plain": [
              "['zero', 'one', 'three', 'four', 'five']"
            ]
          },
          "metadata": {},
          "execution_count": 36
        }
      ]
    },
    {
      "cell_type": "code",
      "source": [
        "list2[1]"
      ],
      "metadata": {
        "colab": {
          "base_uri": "https://localhost:8080/",
          "height": 35
        },
        "id": "3IYKrjiKQcsC",
        "outputId": "48e3b451-419f-468a-d9da-637f47a3df0b"
      },
      "execution_count": 37,
      "outputs": [
        {
          "output_type": "execute_result",
          "data": {
            "application/vnd.google.colaboratory.intrinsic+json": {
              "type": "string"
            },
            "text/plain": [
              "'one'"
            ]
          },
          "metadata": {},
          "execution_count": 37
        }
      ]
    },
    {
      "cell_type": "code",
      "source": [
        "list2.remove(list2[1]) # Menghapus isi value melalui .remove(nama_list[index ke-n])"
      ],
      "metadata": {
        "id": "DkrwebtHQd-I"
      },
      "execution_count": 38,
      "outputs": []
    },
    {
      "cell_type": "code",
      "source": [
        "list2"
      ],
      "metadata": {
        "colab": {
          "base_uri": "https://localhost:8080/"
        },
        "id": "ICxU6uadQfRT",
        "outputId": "8319cdde-576d-43dd-c5de-1c59818795ac"
      },
      "execution_count": 39,
      "outputs": [
        {
          "output_type": "execute_result",
          "data": {
            "text/plain": [
              "['zero', 'three', 'four', 'five']"
            ]
          },
          "metadata": {},
          "execution_count": 39
        }
      ]
    },
    {
      "cell_type": "code",
      "source": [
        "list2.pop() # Menghapus objek paling akhir"
      ],
      "metadata": {
        "colab": {
          "base_uri": "https://localhost:8080/",
          "height": 35
        },
        "id": "EYP0BKYWQgl4",
        "outputId": "dfc63f21-f0bb-43bd-9fd6-f5f5a39c3bb5"
      },
      "execution_count": 40,
      "outputs": [
        {
          "output_type": "execute_result",
          "data": {
            "application/vnd.google.colaboratory.intrinsic+json": {
              "type": "string"
            },
            "text/plain": [
              "'five'"
            ]
          },
          "metadata": {},
          "execution_count": 40
        }
      ]
    },
    {
      "cell_type": "code",
      "source": [
        "list2"
      ],
      "metadata": {
        "colab": {
          "base_uri": "https://localhost:8080/"
        },
        "id": "45gSBIu-Qihr",
        "outputId": "d1cc76fe-7571-4d76-f48e-9b46910d8307"
      },
      "execution_count": 41,
      "outputs": [
        {
          "output_type": "execute_result",
          "data": {
            "text/plain": [
              "['zero', 'three', 'four']"
            ]
          },
          "metadata": {},
          "execution_count": 41
        }
      ]
    },
    {
      "cell_type": "code",
      "source": [
        "list2.pop(1)"
      ],
      "metadata": {
        "colab": {
          "base_uri": "https://localhost:8080/",
          "height": 35
        },
        "id": "hznFG7N4Qjil",
        "outputId": "c24fccd4-36d0-4b1b-f622-e2913b605f1d"
      },
      "execution_count": 42,
      "outputs": [
        {
          "output_type": "execute_result",
          "data": {
            "application/vnd.google.colaboratory.intrinsic+json": {
              "type": "string"
            },
            "text/plain": [
              "'three'"
            ]
          },
          "metadata": {},
          "execution_count": 42
        }
      ]
    },
    {
      "cell_type": "code",
      "source": [
        "list2"
      ],
      "metadata": {
        "colab": {
          "base_uri": "https://localhost:8080/"
        },
        "id": "tGYHi7CLQlVS",
        "outputId": "3eeb7943-19b6-420d-c362-9d2d101a27b4"
      },
      "execution_count": 43,
      "outputs": [
        {
          "output_type": "execute_result",
          "data": {
            "text/plain": [
              "['zero', 'four']"
            ]
          },
          "metadata": {},
          "execution_count": 43
        }
      ]
    },
    {
      "cell_type": "code",
      "source": [
        "list2.insert(1, \"Number\") "
      ],
      "metadata": {
        "id": "Xb0qbeu6QmQw"
      },
      "execution_count": 44,
      "outputs": []
    },
    {
      "cell_type": "code",
      "source": [
        "list2"
      ],
      "metadata": {
        "colab": {
          "base_uri": "https://localhost:8080/"
        },
        "id": "YAruG7cyQnlE",
        "outputId": "96751191-58a0-4230-8a4f-a2a674e6ca97"
      },
      "execution_count": 45,
      "outputs": [
        {
          "output_type": "execute_result",
          "data": {
            "text/plain": [
              "['zero', 'Number', 'four']"
            ]
          },
          "metadata": {},
          "execution_count": 45
        }
      ]
    },
    {
      "cell_type": "code",
      "source": [
        "removed_object = list2.pop(0) # Menyimpan objek mana saja yang telah dihapus dari list ke variable\n",
        "# Menghapus index ke-0, kemudian hasil hapusnya disimpan ke removed_object"
      ],
      "metadata": {
        "id": "0h5tDwEPQou9"
      },
      "execution_count": 46,
      "outputs": []
    },
    {
      "cell_type": "code",
      "source": [
        "removed_object"
      ],
      "metadata": {
        "colab": {
          "base_uri": "https://localhost:8080/",
          "height": 35
        },
        "id": "-RKLxMfgQsLi",
        "outputId": "a03fcabf-8f64-47fc-aba1-42d85a41c22d"
      },
      "execution_count": 48,
      "outputs": [
        {
          "output_type": "execute_result",
          "data": {
            "application/vnd.google.colaboratory.intrinsic+json": {
              "type": "string"
            },
            "text/plain": [
              "'zero'"
            ]
          },
          "metadata": {},
          "execution_count": 48
        }
      ]
    },
    {
      "cell_type": "code",
      "source": [
        "list2"
      ],
      "metadata": {
        "colab": {
          "base_uri": "https://localhost:8080/"
        },
        "id": "fuQ15QS9Qqex",
        "outputId": "310c44a3-46f2-495f-ec6b-4e5a59091036"
      },
      "execution_count": 47,
      "outputs": [
        {
          "output_type": "execute_result",
          "data": {
            "text/plain": [
              "['Number', 'four']"
            ]
          },
          "metadata": {},
          "execution_count": 47
        }
      ]
    },
    {
      "cell_type": "code",
      "source": [
        "list3 = [1, 2, 3, 4, 5, 6]"
      ],
      "metadata": {
        "id": "o5-MADVlQ6xA"
      },
      "execution_count": 49,
      "outputs": []
    },
    {
      "cell_type": "code",
      "source": [
        "list4 = [10, 7, 15, 11, 18, 12]"
      ],
      "metadata": {
        "id": "54I9A8dFRGr2"
      },
      "execution_count": 50,
      "outputs": []
    },
    {
      "cell_type": "code",
      "source": [
        "list5 = list3 + list4 # Menggabungkan list3 dengan list4"
      ],
      "metadata": {
        "id": "xdQHL2HYRLmQ"
      },
      "execution_count": 51,
      "outputs": []
    },
    {
      "cell_type": "code",
      "source": [
        "list5"
      ],
      "metadata": {
        "colab": {
          "base_uri": "https://localhost:8080/"
        },
        "id": "kYSD6NthRV8O",
        "outputId": "1e3f04f0-1d07-468c-8b46-3413d4751c60"
      },
      "execution_count": 52,
      "outputs": [
        {
          "output_type": "execute_result",
          "data": {
            "text/plain": [
              "[1, 2, 3, 4, 5, 6, 10, 7, 15, 11, 18, 12]"
            ]
          },
          "metadata": {},
          "execution_count": 52
        }
      ]
    },
    {
      "cell_type": "code",
      "source": [
        "list5.sort() # Mengurutkan dari value terkecil ke terbesar"
      ],
      "metadata": {
        "id": "JSPCnRmoRYes"
      },
      "execution_count": 54,
      "outputs": []
    },
    {
      "cell_type": "code",
      "source": [
        "list5"
      ],
      "metadata": {
        "colab": {
          "base_uri": "https://localhost:8080/"
        },
        "id": "va6MlGBwRb-a",
        "outputId": "e9466cff-2e59-40d0-8a77-33539a5b0990"
      },
      "execution_count": 55,
      "outputs": [
        {
          "output_type": "execute_result",
          "data": {
            "text/plain": [
              "[1, 2, 3, 4, 5, 6, 7, 10, 11, 12, 15, 18]"
            ]
          },
          "metadata": {},
          "execution_count": 55
        }
      ]
    },
    {
      "cell_type": "code",
      "source": [
        "list5.reverse() # Mengurutkan dari value terbesar ke terkecil"
      ],
      "metadata": {
        "id": "ZKDv7vGMRh66"
      },
      "execution_count": 56,
      "outputs": []
    },
    {
      "cell_type": "code",
      "source": [
        "list5"
      ],
      "metadata": {
        "id": "QZHnX7PYRsPD",
        "outputId": "89734f16-0d94-427e-c469-a9764982be02",
        "colab": {
          "base_uri": "https://localhost:8080/"
        }
      },
      "execution_count": 57,
      "outputs": [
        {
          "output_type": "execute_result",
          "data": {
            "text/plain": [
              "[18, 15, 12, 11, 10, 7, 6, 5, 4, 3, 2, 1]"
            ]
          },
          "metadata": {},
          "execution_count": 57
        }
      ]
    }
  ]
}