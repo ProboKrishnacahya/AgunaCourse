{
  "nbformat": 4,
  "nbformat_minor": 0,
  "metadata": {
    "colab": {
      "name": "19_method_pada_dictionary",
      "provenance": [],
      "authorship_tag": "ABX9TyPOjPoiArmuEwD1ZmjHseH1",
      "include_colab_link": true
    },
    "kernelspec": {
      "name": "python3",
      "display_name": "Python 3"
    },
    "language_info": {
      "name": "python"
    }
  },
  "cells": [
    {
      "cell_type": "markdown",
      "metadata": {
        "id": "view-in-github",
        "colab_type": "text"
      },
      "source": [
        "<a href=\"https://colab.research.google.com/github/cahyaa02/AgunaCourse/blob/Python-Fundamental/19_method_pada_dictionary.ipynb\" target=\"_parent\"><img src=\"https://colab.research.google.com/assets/colab-badge.svg\" alt=\"Open In Colab\"/></a>"
      ]
    },
    {
      "cell_type": "code",
      "execution_count": 1,
      "metadata": {
        "id": "wTDRl_QBddjx"
      },
      "outputs": [],
      "source": [
        "my_data2 = {\n",
        "    \"name\": \"Krishna\",\n",
        "    \"age\": 19,\n",
        "    \"city\": \"Surabaya\",\n",
        "    \"country\": \"Indonesia\"\n",
        "}"
      ]
    },
    {
      "cell_type": "code",
      "source": [
        "dir(my_data2)"
      ],
      "metadata": {
        "colab": {
          "base_uri": "https://localhost:8080/"
        },
        "id": "-TLKcI1Nd4BR",
        "outputId": "dbfdadc9-ae01-4bee-ffc6-d477f4d52ef2"
      },
      "execution_count": 2,
      "outputs": [
        {
          "output_type": "execute_result",
          "data": {
            "text/plain": [
              "['__class__',\n",
              " '__contains__',\n",
              " '__delattr__',\n",
              " '__delitem__',\n",
              " '__dir__',\n",
              " '__doc__',\n",
              " '__eq__',\n",
              " '__format__',\n",
              " '__ge__',\n",
              " '__getattribute__',\n",
              " '__getitem__',\n",
              " '__gt__',\n",
              " '__hash__',\n",
              " '__init__',\n",
              " '__init_subclass__',\n",
              " '__iter__',\n",
              " '__le__',\n",
              " '__len__',\n",
              " '__lt__',\n",
              " '__ne__',\n",
              " '__new__',\n",
              " '__reduce__',\n",
              " '__reduce_ex__',\n",
              " '__repr__',\n",
              " '__setattr__',\n",
              " '__setitem__',\n",
              " '__sizeof__',\n",
              " '__str__',\n",
              " '__subclasshook__',\n",
              " 'clear',\n",
              " 'copy',\n",
              " 'fromkeys',\n",
              " 'get',\n",
              " 'items',\n",
              " 'keys',\n",
              " 'pop',\n",
              " 'popitem',\n",
              " 'setdefault',\n",
              " 'update',\n",
              " 'values']"
            ]
          },
          "metadata": {},
          "execution_count": 2
        }
      ]
    },
    {
      "cell_type": "code",
      "source": [
        "my_data2.keys() # Menunjukkan semua keys pada dictionary"
      ],
      "metadata": {
        "colab": {
          "base_uri": "https://localhost:8080/"
        },
        "id": "tghaGuz_d5bm",
        "outputId": "be193907-93a8-4489-b5c6-3024069ac099"
      },
      "execution_count": 3,
      "outputs": [
        {
          "output_type": "execute_result",
          "data": {
            "text/plain": [
              "dict_keys(['name', 'age', 'city', 'country'])"
            ]
          },
          "metadata": {},
          "execution_count": 3
        }
      ]
    },
    {
      "cell_type": "code",
      "source": [
        "my_data2.values() # Menunjukkan semua values pada dictionary"
      ],
      "metadata": {
        "colab": {
          "base_uri": "https://localhost:8080/"
        },
        "id": "sBTAx7q0eDb4",
        "outputId": "d498fb97-b637-4f5b-84b6-e73b8a88d150"
      },
      "execution_count": 4,
      "outputs": [
        {
          "output_type": "execute_result",
          "data": {
            "text/plain": [
              "dict_values(['Krishna', 19, 'Surabaya', 'Indonesia'])"
            ]
          },
          "metadata": {},
          "execution_count": 4
        }
      ]
    },
    {
      "cell_type": "code",
      "source": [
        "my_data2.pop(\"age\")"
      ],
      "metadata": {
        "colab": {
          "base_uri": "https://localhost:8080/"
        },
        "id": "eTQ_3OoTeL4m",
        "outputId": "0a765aba-b300-4ce7-b021-5d8efc2171e1"
      },
      "execution_count": 5,
      "outputs": [
        {
          "output_type": "execute_result",
          "data": {
            "text/plain": [
              "19"
            ]
          },
          "metadata": {},
          "execution_count": 5
        }
      ]
    },
    {
      "cell_type": "code",
      "source": [
        "my_data2.popitem() # Menghapus data paling akhir"
      ],
      "metadata": {
        "colab": {
          "base_uri": "https://localhost:8080/"
        },
        "id": "HOtoA8CregZK",
        "outputId": "b21312c7-c929-4c1b-f58c-3ef579e79023"
      },
      "execution_count": 6,
      "outputs": [
        {
          "output_type": "execute_result",
          "data": {
            "text/plain": [
              "('country', 'Indonesia')"
            ]
          },
          "metadata": {},
          "execution_count": 6
        }
      ]
    },
    {
      "cell_type": "code",
      "source": [
        "my_data2"
      ],
      "metadata": {
        "colab": {
          "base_uri": "https://localhost:8080/"
        },
        "id": "kSCUsfYHeurR",
        "outputId": "b5876510-4070-46b1-c470-dc2d858b2988"
      },
      "execution_count": 7,
      "outputs": [
        {
          "output_type": "execute_result",
          "data": {
            "text/plain": [
              "{'city': 'Surabaya', 'name': 'Krishna'}"
            ]
          },
          "metadata": {},
          "execution_count": 7
        }
      ]
    },
    {
      "cell_type": "code",
      "source": [
        "my_data2.clear() # Menghapus semua data pada dictionary"
      ],
      "metadata": {
        "id": "kp3HqaApexVp"
      },
      "execution_count": 18,
      "outputs": []
    },
    {
      "cell_type": "code",
      "source": [
        "my_data1 = {\n",
        "    \"name\": \"Python\",\n",
        "    \"age\": 20\n",
        "}"
      ],
      "metadata": {
        "id": "W5aCZUi7fin6"
      },
      "execution_count": 19,
      "outputs": []
    },
    {
      "cell_type": "code",
      "source": [
        "my_data2 = my_data1"
      ],
      "metadata": {
        "id": "enZxsL-1fnwB"
      },
      "execution_count": 20,
      "outputs": []
    },
    {
      "cell_type": "code",
      "source": [
        "my_data1"
      ],
      "metadata": {
        "colab": {
          "base_uri": "https://localhost:8080/"
        },
        "id": "DuJ8eEjbfpla",
        "outputId": "673933b1-c5cf-4b33-e38e-7a7290c337a3"
      },
      "execution_count": 21,
      "outputs": [
        {
          "output_type": "execute_result",
          "data": {
            "text/plain": [
              "{'age': 20, 'name': 'Python'}"
            ]
          },
          "metadata": {},
          "execution_count": 21
        }
      ]
    },
    {
      "cell_type": "code",
      "source": [
        "my_data2"
      ],
      "metadata": {
        "colab": {
          "base_uri": "https://localhost:8080/"
        },
        "id": "hUL4LxZefrQ4",
        "outputId": "c1935f1f-a040-4f06-8f77-910b4f8ac82f"
      },
      "execution_count": 22,
      "outputs": [
        {
          "output_type": "execute_result",
          "data": {
            "text/plain": [
              "{'age': 20, 'name': 'Python'}"
            ]
          },
          "metadata": {},
          "execution_count": 22
        }
      ]
    },
    {
      "cell_type": "code",
      "source": [
        "my_data2[\"age\"] = 22 # Mengubah value pada age"
      ],
      "metadata": {
        "id": "BtX2edtMfs8X"
      },
      "execution_count": 23,
      "outputs": []
    },
    {
      "cell_type": "code",
      "source": [
        "my_data2"
      ],
      "metadata": {
        "colab": {
          "base_uri": "https://localhost:8080/"
        },
        "id": "Pb-A6tRpf37q",
        "outputId": "8b9bb5c8-b2fa-4cd7-908e-14745a4d4028"
      },
      "execution_count": 24,
      "outputs": [
        {
          "output_type": "execute_result",
          "data": {
            "text/plain": [
              "{'age': 22, 'name': 'Python'}"
            ]
          },
          "metadata": {},
          "execution_count": 24
        }
      ]
    },
    {
      "cell_type": "code",
      "source": [
        "my_data1"
      ],
      "metadata": {
        "colab": {
          "base_uri": "https://localhost:8080/"
        },
        "id": "kl0ACPpTf7WP",
        "outputId": "7cf31e54-f22a-48a9-9855-b165ce3b6a25"
      },
      "execution_count": 25,
      "outputs": [
        {
          "output_type": "execute_result",
          "data": {
            "text/plain": [
              "{'age': 22, 'name': 'Python'}"
            ]
          },
          "metadata": {},
          "execution_count": 25
        }
      ]
    },
    {
      "cell_type": "code",
      "source": [
        "my_data2[\"city\"] = \"Jakarta\" # Menambah data key & value"
      ],
      "metadata": {
        "id": "pSYqmOz5f737"
      },
      "execution_count": 26,
      "outputs": []
    },
    {
      "cell_type": "code",
      "source": [
        "my_data2"
      ],
      "metadata": {
        "colab": {
          "base_uri": "https://localhost:8080/"
        },
        "id": "_b4gIk8pgCvX",
        "outputId": "7b380b0c-2a6e-4931-fd68-3374c5b9ab6b"
      },
      "execution_count": 27,
      "outputs": [
        {
          "output_type": "execute_result",
          "data": {
            "text/plain": [
              "{'age': 22, 'city': 'Jakarta', 'name': 'Python'}"
            ]
          },
          "metadata": {},
          "execution_count": 27
        }
      ]
    },
    {
      "cell_type": "code",
      "source": [
        "my_data3 = my_data1.copy() # Agar pada my_data1 tidak memiliki key & value yang kembar dengan my_data3"
      ],
      "metadata": {
        "id": "IT3HCRXLgESf"
      },
      "execution_count": 28,
      "outputs": []
    },
    {
      "cell_type": "code",
      "source": [
        "my_data3[\"country\"] = \"Indonesia\""
      ],
      "metadata": {
        "id": "3NQmNck2gN7y"
      },
      "execution_count": 30,
      "outputs": []
    },
    {
      "cell_type": "code",
      "source": [
        "my_data1"
      ],
      "metadata": {
        "colab": {
          "base_uri": "https://localhost:8080/"
        },
        "id": "7NbFPhhegUur",
        "outputId": "e2c9afdf-20ff-4929-bfeb-22f6f5653353"
      },
      "execution_count": 31,
      "outputs": [
        {
          "output_type": "execute_result",
          "data": {
            "text/plain": [
              "{'age': 22, 'city': 'Jakarta', 'name': 'Python'}"
            ]
          },
          "metadata": {},
          "execution_count": 31
        }
      ]
    },
    {
      "cell_type": "code",
      "source": [
        "my_data3"
      ],
      "metadata": {
        "colab": {
          "base_uri": "https://localhost:8080/"
        },
        "id": "QrYrKjYGgWaS",
        "outputId": "f33f1097-bdc1-4f3a-a139-65dd3986f6ce"
      },
      "execution_count": 33,
      "outputs": [
        {
          "output_type": "execute_result",
          "data": {
            "text/plain": [
              "{'age': 22, 'city': 'Jakarta', 'country': 'Indonesia', 'name': 'Python'}"
            ]
          },
          "metadata": {},
          "execution_count": 33
        }
      ]
    }
  ]
}